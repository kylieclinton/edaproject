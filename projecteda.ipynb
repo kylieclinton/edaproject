{
 "cells": [
  {
   "cell_type": "code",
   "execution_count": 47,
   "metadata": {},
   "outputs": [],
   "source": [
    "import pandas as pd\n",
    "import numpy as np\n",
    "import matplotlib.pyplot as plt\n",
    "import seaborn as sns\n",
    "import requests\n",
    "import json\n",
    "import hashlib\n",
    "import datetime"
   ]
  },
  {
   "cell_type": "code",
   "execution_count": 48,
   "metadata": {},
   "outputs": [],
   "source": [
    "# open the api.txt file\n",
    "with open('api.txt', 'r') as f:\n",
    "    pub_api = f.read()\n",
    "# run the api key\n",
    "with open('priv_api.txt', 'r') as f:\n",
    "    priv_api = f.read()\n",
    "timestamp = datetime.datetime.now().strftime(\"%Y-%m-%d %H:%M:%S\")\n"
   ]
  },
  {
   "cell_type": "code",
   "execution_count": 49,
   "metadata": {},
   "outputs": [],
   "source": [
    "def hash_params():\n",
    "    hash_md5 = hashlib.md5()\n",
    "    hash_md5.update(f'{timestamp}{priv_api}{pub_api}'.encode('utf-8'))\n",
    "    hashed_params = hash_md5.hexdigest()\n",
    "    return hashed_params\n"
   ]
  },
  {
   "cell_type": "code",
   "execution_count": 50,
   "metadata": {},
   "outputs": [
    {
     "name": "stdout",
     "output_type": "stream",
     "text": [
      "200\n"
     ]
    }
   ],
   "source": [
    "params = {'ts': timestamp, 'apikey': pub_api, 'hash': hash_params()}\n",
    "response = requests.get(\"http://gateway.marvel.com/v1/public/comics\", params=params)\n",
    "print(response.status_code)"
   ]
  },
  {
   "cell_type": "code",
   "execution_count": 51,
   "metadata": {},
   "outputs": [
    {
     "name": "stdout",
     "output_type": "stream",
     "text": [
      "200\n"
     ]
    }
   ],
   "source": [
    "character_response = requests.get(\"http://gateway.marvel.com/v1/public/characters\", params=params)\n",
    "print(character_response.status_code)"
   ]
  },
  {
   "cell_type": "code",
   "execution_count": 56,
   "metadata": {},
   "outputs": [
    {
     "data": {
      "text/plain": [
       "Index(['code', 'status', 'copyright', 'attributionText', 'attributionHTML',\n",
       "       'etag', 'data'],\n",
       "      dtype='object')"
      ]
     },
     "execution_count": 56,
     "metadata": {},
     "output_type": "execute_result"
    }
   ],
   "source": [
    "if character_response.status_code == 200:\n",
    "    results = character_response.text\n",
    "    data = json.loads(results)\n",
    "    character_df = pd.DataFrame(data)\n",
    "character_df.columns\n",
    "# df.to_csv('marvel.csv', index=False)"
   ]
  },
  {
   "cell_type": "code",
   "execution_count": 57,
   "metadata": {},
   "outputs": [
    {
     "data": {
      "text/plain": [
       "Index(['code', 'status', 'copyright', 'attributionText', 'attributionHTML',\n",
       "       'etag', 'data'],\n",
       "      dtype='object')"
      ]
     },
     "execution_count": 57,
     "metadata": {},
     "output_type": "execute_result"
    }
   ],
   "source": [
    "if response.status_code == 200:\n",
    "    results = response.text\n",
    "    data = json.loads(results)\n",
    "    df = pd.DataFrame(data)\n",
    "df.columns"
   ]
  },
  {
   "cell_type": "code",
   "execution_count": null,
   "metadata": {},
   "outputs": [],
   "source": []
  }
 ],
 "metadata": {
  "kernelspec": {
   "display_name": "stat386",
   "language": "python",
   "name": "python3"
  },
  "language_info": {
   "codemirror_mode": {
    "name": "ipython",
    "version": 3
   },
   "file_extension": ".py",
   "mimetype": "text/x-python",
   "name": "python",
   "nbconvert_exporter": "python",
   "pygments_lexer": "ipython3",
   "version": "3.10.12"
  }
 },
 "nbformat": 4,
 "nbformat_minor": 2
}
